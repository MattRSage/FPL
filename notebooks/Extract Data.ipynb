{
 "cells": [
  {
   "cell_type": "markdown",
   "metadata": {},
   "source": [
    "# Extract Data"
   ]
  },
  {
   "cell_type": "markdown",
   "metadata": {},
   "source": [
    "### Building file to extract data"
   ]
  },
  {
   "cell_type": "code",
   "execution_count": 1,
   "metadata": {},
   "outputs": [],
   "source": [
    "import requests\n",
    "import pandas as pd\n",
    "import os"
   ]
  },
  {
   "cell_type": "code",
   "execution_count": 2,
   "metadata": {},
   "outputs": [
    {
     "data": {
      "text/plain": [
       "dict_keys(['events', 'game_settings', 'phases', 'teams', 'total_players', 'elements', 'element_stats', 'element_types'])"
      ]
     },
     "execution_count": 2,
     "metadata": {},
     "output_type": "execute_result"
    }
   ],
   "source": [
    "url = 'https://fantasy.premierleague.com/api/bootstrap-static/'\n",
    "response = requests.get(url)\n",
    "json = response.json()\n",
    "json.keys()"
   ]
  },
  {
   "cell_type": "code",
   "execution_count": 3,
   "metadata": {},
   "outputs": [
    {
     "name": "stdout",
     "output_type": "stream",
     "text": [
      "events\n",
      "game_settings\n",
      "phases\n",
      "teams\n",
      "total_players\n",
      "elements\n",
      "element_stats\n",
      "element_types\n"
     ]
    }
   ],
   "source": [
    "for key in json.keys():\n",
    "    print(key)"
   ]
  },
  {
   "cell_type": "code",
   "execution_count": 4,
   "metadata": {},
   "outputs": [],
   "source": [
    "get_raw_data_script_file = os.path.join(os.path.pardir,'src','data','get_raw_data.py')"
   ]
  },
  {
   "cell_type": "code",
   "execution_count": 11,
   "metadata": {},
   "outputs": [
    {
     "name": "stdout",
     "output_type": "stream",
     "text": [
      "Overwriting ..\\src\\data\\get_raw_data.py\n"
     ]
    }
   ],
   "source": [
    "%%writefile $get_raw_data_script_file\n",
    "# -*- coding: utf-8 -*-\n",
    "import os\n",
    "import requests\n",
    "import logging\n",
    "import pandas as pd\n",
    "\n",
    "def extract_data(key, url, file_path):\n",
    "    response = requests.get(url)\n",
    "    json = response.json()\n",
    "    df = pd.DataFrame(json[key])\n",
    "    df.to_csv(file_path)\n",
    "       \n",
    "\n",
    "def main(project_dir):\n",
    "    # get logger\n",
    "    logger = logging.getLogger(__name__)\n",
    "    logger.info('getting raw data')\n",
    "        \n",
    "    \n",
    "    # urls\n",
    "    train_url = 'https://fantasy.premierleague.com/api/bootstrap-static/'\n",
    "    \n",
    "    # file paths\n",
    "    raw_data_path = os.path.join(project_dir,'data','raw')\n",
    "    elements_data_path = os.path.join(raw_data_path,'elements.csv')\n",
    "    element_types_data_path = os.path.join(raw_data_path,'element_types.csv')\n",
    "    teams_data_path = os.path.join(raw_data_path,'teams.csv')\n",
    "\n",
    "    # extract data\n",
    "    extract_data('elements', train_url, elements_data_path)\n",
    "    extract_data('element_types', train_url, element_types_data_path)\n",
    "    extract_data('teams', train_url, teams_data_path)\n",
    "\n",
    "    logger.info('downloaded raw training data')\n",
    "    \n",
    "if __name__ == '__main__':\n",
    "    # get root directory\n",
    "    project_dir = os.path.join(os.path.dirname(__file__), os.pardir, os.pardir)\n",
    "    \n",
    "    # setup logger\n",
    "    log_fmt = '%(asctime)s - %(name)s - %(levelname)s - %(message)s'\n",
    "    logging.basicConfig(level=logging.INFO, format=log_fmt)\n",
    "    \n",
    "    main(project_dir)\n",
    "    \n",
    "    "
   ]
  },
  {
   "cell_type": "code",
   "execution_count": 12,
   "metadata": {},
   "outputs": [
    {
     "name": "stderr",
     "output_type": "stream",
     "text": [
      "2020-10-01 19:01:56,307 - __main__ - INFO - getting raw data\n",
      "2020-10-01 19:01:56,592 - __main__ - INFO - downloaded raw training data\n"
     ]
    }
   ],
   "source": [
    "!python $get_raw_data_script_file"
   ]
  },
  {
   "cell_type": "code",
   "execution_count": null,
   "metadata": {},
   "outputs": [],
   "source": []
  }
 ],
 "metadata": {
  "kernelspec": {
   "display_name": "Python 3",
   "language": "python",
   "name": "python3"
  },
  "language_info": {
   "codemirror_mode": {
    "name": "ipython",
    "version": 3
   },
   "file_extension": ".py",
   "mimetype": "text/x-python",
   "name": "python",
   "nbconvert_exporter": "python",
   "pygments_lexer": "ipython3",
   "version": "3.8.3"
  }
 },
 "nbformat": 4,
 "nbformat_minor": 4
}
